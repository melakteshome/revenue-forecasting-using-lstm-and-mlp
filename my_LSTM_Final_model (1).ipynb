{
  "nbformat": 4,
  "nbformat_minor": 0,
  "metadata": {
    "colab": {
      "name": "my LSTM Final model.ipynb",
      "provenance": [],
      "collapsed_sections": []
    },
    "kernelspec": {
      "display_name": "Python 3",
      "name": "python3"
    },
    "language_info": {
      "name": "python"
    }
  },
  "cells": [
    {
      "cell_type": "code",
      "metadata": {
        "id": "rdEheacqo8TE"
      },
      "source": [
        "import numpy\n",
        "import matplotlib.pyplot as plt\n",
        "from pandas import read_csv\n",
        "import math\n",
        "import pandas as pd\n",
        "import numpy as np\n",
        "from keras.models import Sequential\n",
        "from keras.layers import Dense,BatchNormalization,Dropout\n",
        "from keras.layers import LSTM\n",
        "from keras.layers import Bidirectional\n",
        "from sklearn.preprocessing import MinMaxScaler\n",
        "from sklearn.metrics import mean_squared_error\n",
        "from sklearn.metrics import mean_squared_log_error\n",
        "from sklearn.metrics import r2_score\n",
        "from pylab import rcParams\n",
        "rcParams['figure.figsize'] = 10, 8\n",
        "import matplotlib.pyplot as plt\n",
        "from sklearn.model_selection import  train_test_split\n",
        "from tensorflow.keras.preprocessing.sequence import TimeseriesGenerator\n",
        "from sklearn.preprocessing import  MinMaxScaler, StandardScaler\n",
        "import tensorflow as tf\n",
        "import tensorflow.keras as keras\n",
        "from keras.callbacks import EarlyStopping, ReduceLROnPlateau, ModelCheckpoint, TensorBoard\n",
        "import datetime as dt\n",
        "from datetime import datetime\n",
        "\n",
        "from tkinter import *\n",
        "import tkinter.font as font"
      ],
      "execution_count": null,
      "outputs": []
    },
    {
      "cell_type": "code",
      "metadata": {
        "id": "eYJV43Dc4vOw"
      },
      "source": [
        "def create_dataset(dataset, look_back=1):\n",
        "  dataX, dataY = [], []\n",
        "  for i in range(len(dataset)-look_back-1):\n",
        "    a = dataset[i:(i+look_back), 0]\n",
        "    dataX.append(a)\n",
        "    dataY.append(dataset[i + look_back, 0])\n",
        "  return numpy.array(dataX), numpy.array(dataY)\n",
        "  # fix random seed for reproducibility 1lBdJbC0TXdaVmqkM9TZqnPvwn2fke8cQ  1XDqHh0tFbQ3CJAWLRf87M8WqeES2Vu4v \n",
        "  "
      ],
      "execution_count": null,
      "outputs": []
    },
    {
      "cell_type": "code",
      "metadata": {
        "id": "JXHRCPxZHBgs"
      },
      "source": [
        "# fix random seed for reproducibility\n",
        "numpy.random.seed(7)"
      ],
      "execution_count": null,
      "outputs": []
    },
    {
      "cell_type": "code",
      "metadata": {
        "id": "QDHld5-feBR7",
        "colab": {
          "base_uri": "https://localhost:8080/",
          "height": 1000
        },
        "outputId": "7fba01a6-f1df-4d2a-e6b2-8282a75f166d"
      },
      "source": [
        "!gdown --id 1nMekqw97uTbbGW5P3Ay5h1PNwbkloGa_ --output revenue.csv\n",
        "dataframe = read_csv('revenue.csv' , engine='python')\n",
        "dataset = dataframe.values\n",
        "dataset = dataframe\n",
        "dataset[\"Month\"] = pd.to_datetime(dataframe[\"datee\"]).dt.month\n",
        "dataset[\"Year\"] = pd.to_datetime(dataframe[\"datee\"]).dt.year\n",
        "dataset[\"Date\"] = pd.to_datetime(dataframe[\"datee\"]).dt.date\n",
        "dataset[\"quarter\"]=pd.to_datetime(dataframe['datee']).dt.quarter\n",
        "dataset = dataframe.set_index(\"datee\")\n",
        "dataset.index = pd.to_datetime(dataset.index)\n",
        "df_year = dataframe[['Year','11011','11012','1102','1103','1104','1106','1107','1111','1112','1119']].groupby(by='Year').sum().reset_index()\n",
        "df_year\n",
        "fig, ax = plt.subplots(figsize=(15,10))\n",
        "df_year.set_index('Year').plot(kind='bar',ax=ax)\n",
        "# ax1 = fig.add_subplot(111)\n",
        "ax.set_ylabel('Collected Revenue',size=18)\n",
        "ax.set_xlabel('Year',size=18)\n",
        "plt.show()\n",
        "dataset.head(5)"
      ],
      "execution_count": null,
      "outputs": [
        {
          "output_type": "stream",
          "name": "stdout",
          "text": [
            "Downloading...\n",
            "From: https://drive.google.com/uc?id=1nMekqw97uTbbGW5P3Ay5h1PNwbkloGa_\n",
            "To: /content/revenue.csv\n",
            "\r  0% 0.00/186k [00:00<?, ?B/s]\r100% 186k/186k [00:00<00:00, 54.5MB/s]\n"
          ]
        },
        {
          "output_type": "display_data",
          "data": {
            "image/png": "[encoded data removed]",
            "text/plain": [
              "<Figure size 1080x720 with 1 Axes>"
            ]
          },
          "metadata": {
            "needs_background": "light"
          }
        },
        {
          "output_type": "execute_result",
          "data": {
            "text/html": [
              "<div>\n",
              "<style scoped>\n",
              "    .dataframe tbody tr th:only-of-type {\n",
              "        vertical-align: middle;\n",
              "    }\n",
              "\n",
              "    .dataframe tbody tr th {\n",
              "        vertical-align: top;\n",
              "    }\n",
              "\n",
              "    .dataframe thead th {\n",
              "        text-align: right;\n",
              "    }\n",
              "</style>\n",
              "<table border=\"1\" class=\"dataframe\">\n",
              "  <thead>\n",
              "    <tr style=\"text-align: right;\">\n",
              "      <th></th>\n",
              "      <th>total</th>\n",
              "      <th>11011</th>\n",
              "      <th>11012</th>\n",
              "      <th>1102</th>\n",
              "      <th>1103</th>\n",
              "      <th>1104</th>\n",
              "      <th>1106</th>\n",
              "      <th>1107</th>\n",
              "      <th>1108</th>\n",
              "      <th>1111</th>\n",
              "      <th>1112</th>\n",
              "      <th>1119</th>\n",
              "      <th>1121</th>\n",
              "      <th>1122</th>\n",
              "      <th>1123</th>\n",
              "      <th>1124</th>\n",
              "      <th>1125</th>\n",
              "      <th>1126</th>\n",
              "      <th>1127</th>\n",
              "      <th>1128</th>\n",
              "      <th>1129</th>\n",
              "      <th>1131</th>\n",
              "      <th>1132</th>\n",
              "      <th>1133</th>\n",
              "      <th>1134</th>\n",
              "      <th>1135</th>\n",
              "      <th>1136</th>\n",
              "      <th>1137</th>\n",
              "      <th>1138</th>\n",
              "      <th>1139</th>\n",
              "      <th>1141</th>\n",
              "      <th>1142</th>\n",
              "      <th>1143</th>\n",
              "      <th>1144</th>\n",
              "      <th>1169</th>\n",
              "      <th>1171</th>\n",
              "      <th>1172</th>\n",
              "      <th>1173</th>\n",
              "      <th>1174</th>\n",
              "      <th>1175</th>\n",
              "      <th>...</th>\n",
              "      <th>1433</th>\n",
              "      <th>1434</th>\n",
              "      <th>1435</th>\n",
              "      <th>1436</th>\n",
              "      <th>1437</th>\n",
              "      <th>1438</th>\n",
              "      <th>1439</th>\n",
              "      <th>1441</th>\n",
              "      <th>1442</th>\n",
              "      <th>1443</th>\n",
              "      <th>1444</th>\n",
              "      <th>1445</th>\n",
              "      <th>1446</th>\n",
              "      <th>1451</th>\n",
              "      <th>1453</th>\n",
              "      <th>1455</th>\n",
              "      <th>1456</th>\n",
              "      <th>1459</th>\n",
              "      <th>1460-1470</th>\n",
              "      <th>1464</th>\n",
              "      <th>1465</th>\n",
              "      <th>1468</th>\n",
              "      <th>1469</th>\n",
              "      <th>1479</th>\n",
              "      <th>1480</th>\n",
              "      <th>1481</th>\n",
              "      <th>1482</th>\n",
              "      <th>1483</th>\n",
              "      <th>1489</th>\n",
              "      <th>1500</th>\n",
              "      <th>1501</th>\n",
              "      <th>1502</th>\n",
              "      <th>1503</th>\n",
              "      <th>1504</th>\n",
              "      <th>1505</th>\n",
              "      <th>1506</th>\n",
              "      <th>Month</th>\n",
              "      <th>Year</th>\n",
              "      <th>Date</th>\n",
              "      <th>quarter</th>\n",
              "    </tr>\n",
              "    <tr>\n",
              "      <th>datee</th>\n",
              "      <th></th>\n",
              "      <th></th>\n",
              "      <th></th>\n",
              "      <th></th>\n",
              "      <th></th>\n",
              "      <th></th>\n",
              "      <th></th>\n",
              "      <th></th>\n",
              "      <th></th>\n",
              "      <th></th>\n",
              "      <th></th>\n",
              "      <th></th>\n",
              "      <th></th>\n",
              "      <th></th>\n",
              "      <th></th>\n",
              "      <th></th>\n",
              "      <th></th>\n",
              "      <th></th>\n",
              "      <th></th>\n",
              "      <th></th>\n",
              "      <th></th>\n",
              "      <th></th>\n",
              "      <th></th>\n",
              "      <th></th>\n",
              "      <th></th>\n",
              "      <th></th>\n",
              "      <th></th>\n",
              "      <th></th>\n",
              "      <th></th>\n",
              "      <th></th>\n",
              "      <th></th>\n",
              "      <th></th>\n",
              "      <th></th>\n",
              "      <th></th>\n",
              "      <th></th>\n",
              "      <th></th>\n",
              "      <th></th>\n",
              "      <th></th>\n",
              "      <th></th>\n",
              "      <th></th>\n",
              "      <th></th>\n",
              "      <th></th>\n",
              "      <th></th>\n",
              "      <th></th>\n",
              "      <th></th>\n",
              "      <th></th>\n",
              "      <th></th>\n",
              "      <th></th>\n",
              "      <th></th>\n",
              "      <th></th>\n",
              "      <th></th>\n",
              "      <th></th>\n",
              "      <th></th>\n",
              "      <th></th>\n",
              "      <th></th>\n",
              "      <th></th>\n",
              "      <th></th>\n",
              "      <th></th>\n",
              "      <th></th>\n",
              "      <th></th>\n",
              "      <th></th>\n",
              "      <th></th>\n",
              "      <th></th>\n",
              "      <th></th>\n",
              "      <th></th>\n",
              "      <th></th>\n",
              "      <th></th>\n",
              "      <th></th>\n",
              "      <th></th>\n",
              "      <th></th>\n",
              "      <th></th>\n",
              "      <th></th>\n",
              "      <th></th>\n",
              "      <th></th>\n",
              "      <th></th>\n",
              "      <th></th>\n",
              "      <th></th>\n",
              "      <th></th>\n",
              "      <th></th>\n",
              "      <th></th>\n",
              "      <th></th>\n",
              "    </tr>\n",
              "  </thead>\n",
              "  <tbody>\n",
              "    <tr>\n",
              "      <th>2011-01-28</th>\n",
              "      <td>188476007.5</td>\n",
              "      <td>5.108741e+07</td>\n",
              "      <td>2.125167e+07</td>\n",
              "      <td>3527250.184</td>\n",
              "      <td>4.355629e+07</td>\n",
              "      <td>24183.20167</td>\n",
              "      <td>624751.2658</td>\n",
              "      <td>9607927.8</td>\n",
              "      <td>718851.7675</td>\n",
              "      <td>85659.75</td>\n",
              "      <td>68220.41</td>\n",
              "      <td>57007.6975</td>\n",
              "      <td>0.0</td>\n",
              "      <td>27351.66917</td>\n",
              "      <td>288049.65</td>\n",
              "      <td>22272.91917</td>\n",
              "      <td>273.540833</td>\n",
              "      <td>5815.428333</td>\n",
              "      <td>79639.75333</td>\n",
              "      <td>10227.05083</td>\n",
              "      <td>5989043.737</td>\n",
              "      <td>27734.945</td>\n",
              "      <td>4335.05</td>\n",
              "      <td>10215.21</td>\n",
              "      <td>262.284167</td>\n",
              "      <td>4713.130833</td>\n",
              "      <td>6701.939167</td>\n",
              "      <td>1438.446667</td>\n",
              "      <td>320.736667</td>\n",
              "      <td>9563.406667</td>\n",
              "      <td>12226.20417</td>\n",
              "      <td>12108.67833</td>\n",
              "      <td>4862.791667</td>\n",
              "      <td>27626.29583</td>\n",
              "      <td>1.003182e+07</td>\n",
              "      <td>5055.75875</td>\n",
              "      <td>0.0</td>\n",
              "      <td>4796.093333</td>\n",
              "      <td>59510.42667</td>\n",
              "      <td>9706.466667</td>\n",
              "      <td>...</td>\n",
              "      <td>468451.0683</td>\n",
              "      <td>1016649.203</td>\n",
              "      <td>29889.219170</td>\n",
              "      <td>1169792.82</td>\n",
              "      <td>275864.6633</td>\n",
              "      <td>83502.16</td>\n",
              "      <td>377126.5992</td>\n",
              "      <td>12644.104170</td>\n",
              "      <td>32202.89333</td>\n",
              "      <td>437909.4733</td>\n",
              "      <td>1557.333333</td>\n",
              "      <td>33220.28333</td>\n",
              "      <td>714.083333</td>\n",
              "      <td>640490.17</td>\n",
              "      <td>724.25</td>\n",
              "      <td>389299.0817</td>\n",
              "      <td>166041.0842</td>\n",
              "      <td>95934.40917</td>\n",
              "      <td>2.744043e+05</td>\n",
              "      <td>12693.6725</td>\n",
              "      <td>29146.636670</td>\n",
              "      <td>6984449.972</td>\n",
              "      <td>95883.28</td>\n",
              "      <td>156578.5825</td>\n",
              "      <td>4571852.705</td>\n",
              "      <td>38333.125</td>\n",
              "      <td>0.0</td>\n",
              "      <td>0.0</td>\n",
              "      <td>4533519.58</td>\n",
              "      <td>2952.58</td>\n",
              "      <td>1373.4175</td>\n",
              "      <td>962.704167</td>\n",
              "      <td>616.458333</td>\n",
              "      <td>0</td>\n",
              "      <td>0</td>\n",
              "      <td>0</td>\n",
              "      <td>1</td>\n",
              "      <td>2011</td>\n",
              "      <td>2011-01-28</td>\n",
              "      <td>1</td>\n",
              "    </tr>\n",
              "    <tr>\n",
              "      <th>2011-02-28</th>\n",
              "      <td>140034423.5</td>\n",
              "      <td>8.571904e+07</td>\n",
              "      <td>1.681022e+07</td>\n",
              "      <td>4887744.582</td>\n",
              "      <td>4.589000e+07</td>\n",
              "      <td>23873.20167</td>\n",
              "      <td>663858.4158</td>\n",
              "      <td>9610044.8</td>\n",
              "      <td>707693.8775</td>\n",
              "      <td>85349.75</td>\n",
              "      <td>67910.41</td>\n",
              "      <td>72904.7675</td>\n",
              "      <td>0.0</td>\n",
              "      <td>31174.51917</td>\n",
              "      <td>308330.65</td>\n",
              "      <td>26337.59917</td>\n",
              "      <td>803.540833</td>\n",
              "      <td>9880.108333</td>\n",
              "      <td>83704.43333</td>\n",
              "      <td>14291.73083</td>\n",
              "      <td>5305960.527</td>\n",
              "      <td>31799.625</td>\n",
              "      <td>8399.73</td>\n",
              "      <td>14279.89</td>\n",
              "      <td>632.284167</td>\n",
              "      <td>8777.810833</td>\n",
              "      <td>12738.919170</td>\n",
              "      <td>7475.426667</td>\n",
              "      <td>6470.736667</td>\n",
              "      <td>13812.406670</td>\n",
              "      <td>16290.88417</td>\n",
              "      <td>16173.35833</td>\n",
              "      <td>8927.471667</td>\n",
              "      <td>35788.12583</td>\n",
              "      <td>7.698519e+05</td>\n",
              "      <td>9120.43875</td>\n",
              "      <td>0.0</td>\n",
              "      <td>8860.773333</td>\n",
              "      <td>63575.10667</td>\n",
              "      <td>13771.146670</td>\n",
              "      <td>...</td>\n",
              "      <td>204138.3883</td>\n",
              "      <td>1237745.813</td>\n",
              "      <td>5423.199167</td>\n",
              "      <td>1158381.09</td>\n",
              "      <td>263491.8133</td>\n",
              "      <td>79630.66</td>\n",
              "      <td>383363.3892</td>\n",
              "      <td>19870.104170</td>\n",
              "      <td>39428.89333</td>\n",
              "      <td>173596.7933</td>\n",
              "      <td>1197.333333</td>\n",
              "      <td>23350.07333</td>\n",
              "      <td>384.083333</td>\n",
              "      <td>629078.44</td>\n",
              "      <td>394.25</td>\n",
              "      <td>124986.4017</td>\n",
              "      <td>161552.7842</td>\n",
              "      <td>88503.01917</td>\n",
              "      <td>3.187492e+05</td>\n",
              "      <td>19919.6725</td>\n",
              "      <td>4680.616667</td>\n",
              "      <td>6988296.912</td>\n",
              "      <td>88451.89</td>\n",
              "      <td>152090.2825</td>\n",
              "      <td>4990587.805</td>\n",
              "      <td>28462.915</td>\n",
              "      <td>0.0</td>\n",
              "      <td>0.0</td>\n",
              "      <td>4962124.89</td>\n",
              "      <td>2952.58</td>\n",
              "      <td>1373.4175</td>\n",
              "      <td>962.704167</td>\n",
              "      <td>616.458333</td>\n",
              "      <td>0</td>\n",
              "      <td>0</td>\n",
              "      <td>0</td>\n",
              "      <td>2</td>\n",
              "      <td>2011</td>\n",
              "      <td>2011-02-28</td>\n",
              "      <td>1</td>\n",
              "    </tr>\n",
              "    <tr>\n",
              "      <th>2011-03-28</th>\n",
              "      <td>168445922.3</td>\n",
              "      <td>7.651268e+07</td>\n",
              "      <td>9.817854e+06</td>\n",
              "      <td>1093844.260</td>\n",
              "      <td>2.083219e+07</td>\n",
              "      <td>25123.20167</td>\n",
              "      <td>719356.9758</td>\n",
              "      <td>9608777.8</td>\n",
              "      <td>802966.7275</td>\n",
              "      <td>86599.75</td>\n",
              "      <td>69160.41</td>\n",
              "      <td>37557.6975</td>\n",
              "      <td>0.0</td>\n",
              "      <td>32089.21917</td>\n",
              "      <td>486105.57</td>\n",
              "      <td>53753.91917</td>\n",
              "      <td>388.540833</td>\n",
              "      <td>37296.428330</td>\n",
              "      <td>111120.75330</td>\n",
              "      <td>41708.05083</td>\n",
              "      <td>5923788.827</td>\n",
              "      <td>59215.945</td>\n",
              "      <td>35816.05</td>\n",
              "      <td>41696.21</td>\n",
              "      <td>1262.284167</td>\n",
              "      <td>36194.130830</td>\n",
              "      <td>40155.239170</td>\n",
              "      <td>34891.746670</td>\n",
              "      <td>3520.736667</td>\n",
              "      <td>41044.406670</td>\n",
              "      <td>43707.20417</td>\n",
              "      <td>43589.67833</td>\n",
              "      <td>36343.791670</td>\n",
              "      <td>28702.53583</td>\n",
              "      <td>5.598471e+05</td>\n",
              "      <td>36536.75875</td>\n",
              "      <td>0.0</td>\n",
              "      <td>36277.093330</td>\n",
              "      <td>90991.42667</td>\n",
              "      <td>41187.466670</td>\n",
              "      <td>...</td>\n",
              "      <td>187776.7883</td>\n",
              "      <td>1241669.573</td>\n",
              "      <td>4406.399167</td>\n",
              "      <td>1141612.11</td>\n",
              "      <td>261107.0633</td>\n",
              "      <td>72039.66</td>\n",
              "      <td>367060.3792</td>\n",
              "      <td>23136.104170</td>\n",
              "      <td>42694.89333</td>\n",
              "      <td>157235.1933</td>\n",
              "      <td>877.333333</td>\n",
              "      <td>18395.83333</td>\n",
              "      <td>862.083333</td>\n",
              "      <td>612309.46</td>\n",
              "      <td>872.25</td>\n",
              "      <td>108624.8017</td>\n",
              "      <td>231362.6842</td>\n",
              "      <td>88434.81917</td>\n",
              "      <td>1.749796e+05</td>\n",
              "      <td>23185.6725</td>\n",
              "      <td>3663.816667</td>\n",
              "      <td>6971761.972</td>\n",
              "      <td>88383.69</td>\n",
              "      <td>221900.1825</td>\n",
              "      <td>4893939.505</td>\n",
              "      <td>23508.675</td>\n",
              "      <td>0.0</td>\n",
              "      <td>0.0</td>\n",
              "      <td>4870430.83</td>\n",
              "      <td>2952.58</td>\n",
              "      <td>1373.4175</td>\n",
              "      <td>962.704167</td>\n",
              "      <td>616.458333</td>\n",
              "      <td>0</td>\n",
              "      <td>0</td>\n",
              "      <td>0</td>\n",
              "      <td>3</td>\n",
              "      <td>2011</td>\n",
              "      <td>2011-03-28</td>\n",
              "      <td>1</td>\n",
              "    </tr>\n",
              "    <tr>\n",
              "      <th>2011-04-28</th>\n",
              "      <td>217449074.0</td>\n",
              "      <td>1.227449e+08</td>\n",
              "      <td>1.687219e+07</td>\n",
              "      <td>1733012.695</td>\n",
              "      <td>4.996473e+07</td>\n",
              "      <td>24061.20167</td>\n",
              "      <td>945663.8358</td>\n",
              "      <td>9656509.8</td>\n",
              "      <td>783164.6275</td>\n",
              "      <td>85537.75</td>\n",
              "      <td>68098.41</td>\n",
              "      <td>36495.6975</td>\n",
              "      <td>0.0</td>\n",
              "      <td>38025.48917</td>\n",
              "      <td>355814.82</td>\n",
              "      <td>27212.91917</td>\n",
              "      <td>1223.540833</td>\n",
              "      <td>10755.428330</td>\n",
              "      <td>84579.75333</td>\n",
              "      <td>15167.05083</td>\n",
              "      <td>5677908.827</td>\n",
              "      <td>32674.945</td>\n",
              "      <td>9275.05</td>\n",
              "      <td>15155.21</td>\n",
              "      <td>524.284167</td>\n",
              "      <td>9653.130833</td>\n",
              "      <td>13614.239170</td>\n",
              "      <td>8350.746667</td>\n",
              "      <td>7550.736667</td>\n",
              "      <td>29520.406670</td>\n",
              "      <td>17166.20417</td>\n",
              "      <td>17048.67833</td>\n",
              "      <td>9802.791667</td>\n",
              "      <td>28803.55583</td>\n",
              "      <td>5.472564e+05</td>\n",
              "      <td>9995.75875</td>\n",
              "      <td>0.0</td>\n",
              "      <td>9736.093333</td>\n",
              "      <td>64450.42667</td>\n",
              "      <td>14646.466670</td>\n",
              "      <td>...</td>\n",
              "      <td>206920.8883</td>\n",
              "      <td>1258809.573</td>\n",
              "      <td>2866.299167</td>\n",
              "      <td>1127872.29</td>\n",
              "      <td>260381.9633</td>\n",
              "      <td>73271.16</td>\n",
              "      <td>389566.9592</td>\n",
              "      <td>9874.104167</td>\n",
              "      <td>29432.89333</td>\n",
              "      <td>176379.2933</td>\n",
              "      <td>938.333333</td>\n",
              "      <td>46585.84333</td>\n",
              "      <td>894.083333</td>\n",
              "      <td>598569.64</td>\n",
              "      <td>904.25</td>\n",
              "      <td>127768.9017</td>\n",
              "      <td>162836.2342</td>\n",
              "      <td>95521.28917</td>\n",
              "      <td>1.183543e+06</td>\n",
              "      <td>9923.6725</td>\n",
              "      <td>2123.716667</td>\n",
              "      <td>7098516.622</td>\n",
              "      <td>95470.16</td>\n",
              "      <td>153373.7325</td>\n",
              "      <td>4990111.125</td>\n",
              "      <td>51698.685</td>\n",
              "      <td>0.0</td>\n",
              "      <td>0.0</td>\n",
              "      <td>4938412.44</td>\n",
              "      <td>2952.58</td>\n",
              "      <td>1373.4175</td>\n",
              "      <td>962.704167</td>\n",
              "      <td>616.458333</td>\n",
              "      <td>0</td>\n",
              "      <td>0</td>\n",
              "      <td>0</td>\n",
              "      <td>4</td>\n",
              "      <td>2011</td>\n",
              "      <td>2011-04-28</td>\n",
              "      <td>2</td>\n",
              "    </tr>\n",
              "    <tr>\n",
              "      <th>2011-05-28</th>\n",
              "      <td>183884741.4</td>\n",
              "      <td>1.217815e+08</td>\n",
              "      <td>1.676290e+07</td>\n",
              "      <td>1529940.126</td>\n",
              "      <td>7.181197e+06</td>\n",
              "      <td>23503.64167</td>\n",
              "      <td>694174.9458</td>\n",
              "      <td>10420304.8</td>\n",
              "      <td>732035.1775</td>\n",
              "      <td>83980.19</td>\n",
              "      <td>66540.85</td>\n",
              "      <td>34938.1375</td>\n",
              "      <td>0.0</td>\n",
              "      <td>31331.46917</td>\n",
              "      <td>316047.65</td>\n",
              "      <td>21828.47917</td>\n",
              "      <td>1119.100833</td>\n",
              "      <td>4370.988333</td>\n",
              "      <td>78265.31333</td>\n",
              "      <td>30327.05083</td>\n",
              "      <td>5566129.837</td>\n",
              "      <td>26290.505</td>\n",
              "      <td>2890.61</td>\n",
              "      <td>8770.77</td>\n",
              "      <td>1912.284167</td>\n",
              "      <td>3268.690833</td>\n",
              "      <td>7229.799167</td>\n",
              "      <td>1966.306667</td>\n",
              "      <td>1166.296667</td>\n",
              "      <td>8188.966667</td>\n",
              "      <td>12781.76417</td>\n",
              "      <td>12664.23833</td>\n",
              "      <td>3418.351667</td>\n",
              "      <td>25663.56583</td>\n",
              "      <td>6.807734e+05</td>\n",
              "      <td>3611.31875</td>\n",
              "      <td>0.0</td>\n",
              "      <td>3351.653333</td>\n",
              "      <td>64902.42667</td>\n",
              "      <td>8262.026667</td>\n",
              "      <td>...</td>\n",
              "      <td>192627.5483</td>\n",
              "      <td>1196079.863</td>\n",
              "      <td>3973.949167</td>\n",
              "      <td>1145863.90</td>\n",
              "      <td>267985.8733</td>\n",
              "      <td>76214.66</td>\n",
              "      <td>359763.9892</td>\n",
              "      <td>2650.104167</td>\n",
              "      <td>22208.89333</td>\n",
              "      <td>162085.9533</td>\n",
              "      <td>1009.333333</td>\n",
              "      <td>25740.48333</td>\n",
              "      <td>1185.083333</td>\n",
              "      <td>616561.25</td>\n",
              "      <td>1195.25</td>\n",
              "      <td>113475.5617</td>\n",
              "      <td>156916.2842</td>\n",
              "      <td>89812.81917</td>\n",
              "      <td>8.224108e+06</td>\n",
              "      <td>2699.6725</td>\n",
              "      <td>3231.366667</td>\n",
              "      <td>7982406.202</td>\n",
              "      <td>89761.69</td>\n",
              "      <td>147453.7825</td>\n",
              "      <td>4634651.795</td>\n",
              "      <td>30853.325</td>\n",
              "      <td>0.0</td>\n",
              "      <td>0.0</td>\n",
              "      <td>4603798.47</td>\n",
              "      <td>2952.58</td>\n",
              "      <td>1373.4175</td>\n",
              "      <td>962.704167</td>\n",
              "      <td>616.458333</td>\n",
              "      <td>0</td>\n",
              "      <td>0</td>\n",
              "      <td>0</td>\n",
              "      <td>5</td>\n",
              "      <td>2011</td>\n",
              "      <td>2011-05-28</td>\n",
              "      <td>2</td>\n",
              "    </tr>\n",
              "  </tbody>\n",
              "</table>\n",
              "<p>5 rows × 148 columns</p>\n",
              "</div>"
            ],
            "text/plain": [
              "                  total         11011         11012  ...  Year        Date  quarter\n",
              "datee                                                ...                           \n",
              "2011-01-28  188476007.5  5.108741e+07  2.125167e+07  ...  2011  2011-01-28        1\n",
              "2011-02-28  140034423.5  8.571904e+07  1.681022e+07  ...  2011  2011-02-28        1\n",
              "2011-03-28  168445922.3  7.651268e+07  9.817854e+06  ...  2011  2011-03-28        1\n",
              "2011-04-28  217449074.0  1.227449e+08  1.687219e+07  ...  2011  2011-04-28        2\n",
              "2011-05-28  183884741.4  1.217815e+08  1.676290e+07  ...  2011  2011-05-28        2\n",
              "\n",
              "[5 rows x 148 columns]"
            ]
          },
          "metadata": {},
          "execution_count": 4
        }
      ]
    },
    {
      "cell_type": "code",
      "metadata": {
        "id": "oMp7G-iJUlEo",
        "colab": {
          "base_uri": "https://localhost:8080/"
        },
        "outputId": "54a0b3af-14a4-4819-f0c4-3752739d151f"
      },
      "source": [
        "!gdown --id 1nMekqw97uTbbGW5P3Ay5h1PNwbkloGa_ --output revenue.csv\n",
        "dataframe = read_csv('revenue.csv' , usecols=[0,3],parse_dates=['datee'],index_col='datee', engine='python', skipfooter=3)\n",
        "dataset = dataframe.values\n",
        "dataset = dataset.astype('float32')"
      ],
      "execution_count": null,
      "outputs": [
        {
          "output_type": "stream",
          "name": "stdout",
          "text": [
            "Downloading...\n",
            "From: https://drive.google.com/uc?id=1nMekqw97uTbbGW5P3Ay5h1PNwbkloGa_\n",
            "To: /content/revenue.csv\n",
            "\r  0% 0.00/186k [00:00<?, ?B/s]\r100% 186k/186k [00:00<00:00, 59.4MB/s]\n"
          ]
        }
      ]
    },
    {
      "cell_type": "code",
      "metadata": {
        "colab": {
          "base_uri": "https://localhost:8080/"
        },
        "id": "qs_NOT4opEcq",
        "outputId": "d751ed39-127f-40ca-9fde-ada4f092d4b6"
      },
      "source": [
        "dataset"
      ],
      "execution_count": null,
      "outputs": [
        {
          "output_type": "execute_result",
          "data": {
            "text/plain": [
              "array([[2.1251674e+07],\n",
              "       [1.6810222e+07],\n",
              "       [9.8178540e+06],\n",
              "       [1.6872190e+07],\n",
              "       [1.6762897e+07],\n",
              "       [1.0952814e+07],\n",
              "       [1.2787641e+07],\n",
              "       [1.5291924e+07],\n",
              "       [1.6568624e+07],\n",
              "       [1.5876227e+07],\n",
              "       [2.3142960e+07],\n",
              "       [1.8408124e+07],\n",
              "       [2.8552556e+07],\n",
              "       [2.0217826e+07],\n",
              "       [2.3481306e+07],\n",
              "       [1.6438587e+07],\n",
              "       [2.6528740e+07],\n",
              "       [2.7535792e+07],\n",
              "       [2.4068862e+07],\n",
              "       [2.4354680e+07],\n",
              "       [3.2360194e+07],\n",
              "       [2.3481306e+07],\n",
              "       [2.8552556e+07],\n",
              "       [2.6528740e+07],\n",
              "       [2.3481306e+07],\n",
              "       [2.7535792e+07],\n",
              "       [2.9525744e+07],\n",
              "       [2.8067848e+07],\n",
              "       [3.1175718e+07],\n",
              "       [3.3105378e+07],\n",
              "       [3.1196282e+07],\n",
              "       [3.1506812e+07],\n",
              "       [4.0199128e+07],\n",
              "       [3.8466068e+07],\n",
              "       [4.4116112e+07],\n",
              "       [3.8203508e+07],\n",
              "       [7.2113832e+07],\n",
              "       [6.1629224e+07],\n",
              "       [6.5914076e+07],\n",
              "       [6.0470404e+07],\n",
              "       [4.9911536e+07],\n",
              "       [2.9651538e+07],\n",
              "       [6.5402004e+07],\n",
              "       [4.5718100e+07],\n",
              "       [6.3633888e+07],\n",
              "       [3.4763656e+07],\n",
              "       [6.8965736e+07],\n",
              "       [6.4637236e+07],\n",
              "       [5.2198480e+07],\n",
              "       [7.9807256e+07],\n",
              "       [5.2365588e+07],\n",
              "       [6.1172552e+07],\n",
              "       [5.5180128e+07],\n",
              "       [7.4319352e+07],\n",
              "       [4.8451908e+07],\n",
              "       [4.9719332e+07],\n",
              "       [7.3202128e+07],\n",
              "       [6.9640504e+07],\n",
              "       [6.1295048e+07],\n",
              "       [6.7851576e+07],\n",
              "       [5.8766524e+07],\n",
              "       [6.5424084e+07],\n",
              "       [4.0276176e+07],\n",
              "       [4.2591732e+07],\n",
              "       [4.4460952e+07],\n",
              "       [9.0232968e+07],\n",
              "       [3.8453628e+07],\n",
              "       [2.2009180e+07],\n",
              "       [7.6290248e+07],\n",
              "       [8.6439944e+07],\n",
              "       [4.9393696e+07],\n",
              "       [5.1377892e+07],\n",
              "       [4.8897064e+07],\n",
              "       [7.6978288e+07],\n",
              "       [6.9034752e+07],\n",
              "       [6.4990268e+07],\n",
              "       [6.2304804e+07],\n",
              "       [1.0693576e+08],\n",
              "       [7.7947104e+07],\n",
              "       [6.1952184e+07],\n",
              "       [5.5738820e+07],\n",
              "       [8.8466112e+07],\n",
              "       [6.0512144e+07],\n",
              "       [9.5713520e+07],\n",
              "       [4.8897064e+07],\n",
              "       [7.6978288e+07],\n",
              "       [6.9034752e+07],\n",
              "       [6.4990268e+07],\n",
              "       [6.2304804e+07],\n",
              "       [1.0693576e+08],\n",
              "       [7.7947104e+07],\n",
              "       [6.1952184e+07],\n",
              "       [5.5738820e+07],\n",
              "       [8.8466112e+07],\n",
              "       [6.0512144e+07],\n",
              "       [9.5713520e+07],\n",
              "       [7.6262000e+07],\n",
              "       [1.0084941e+08],\n",
              "       [7.6467736e+07],\n",
              "       [7.2021872e+07],\n",
              "       [1.0800811e+08],\n",
              "       [1.0002140e+08],\n",
              "       [8.2025712e+07],\n",
              "       [8.1310192e+07],\n",
              "       [8.5874800e+07],\n",
              "       [8.7296000e+07],\n",
              "       [8.9470072e+07],\n",
              "       [1.0353121e+08],\n",
              "       [1.2750430e+08],\n",
              "       [1.2146107e+08],\n",
              "       [1.0188047e+08],\n",
              "       [1.0177271e+08],\n",
              "       [1.3203750e+08],\n",
              "       [1.4594568e+08],\n",
              "       [1.0240274e+08],\n",
              "       [9.9534752e+07],\n",
              "       [1.2674630e+08]], dtype=float32)"
            ]
          },
          "metadata": {},
          "execution_count": 6
        }
      ]
    },
    {
      "cell_type": "code",
      "metadata": {
        "id": "8rsdh4McXlcF",
        "colab": {
          "base_uri": "https://localhost:8080/"
        },
        "outputId": "921b6b13-7502-45f6-80a3-aeb24d1f0eb2"
      },
      "source": [
        "# Check if revenue series is stationary\n",
        "from statsmodels.tsa.stattools import adfuller\n",
        "result=adfuller(dataframe['11012'], autolag = 'AIC')\n",
        "# result = adfuller(df.close.dropna())\n",
        "print(f\"ADF Statistic: {result[0]}\")\n",
        "print(f\"p-value: {result[1]}\")"
      ],
      "execution_count": null,
      "outputs": [
        {
          "output_type": "stream",
          "name": "stdout",
          "text": [
            "ADF Statistic: 0.5393282934567505\n",
            "p-value: 0.9860206801301191\n"
          ]
        },
        {
          "output_type": "stream",
          "name": "stderr",
          "text": [
            "/usr/local/lib/python3.7/dist-packages/statsmodels/tools/_testing.py:19: FutureWarning: pandas.util.testing is deprecated. Use the functions in the public API at pandas.testing instead.\n",
            "  import pandas.util.testing as tm\n"
          ]
        }
      ]
    },
    {
      "cell_type": "code",
      "metadata": {
        "id": "j4pdNP0TZy2z",
        "colab": {
          "base_uri": "https://localhost:8080/",
          "height": 297
        },
        "outputId": "fa9f2303-2730-4956-83f4-6b20bae8c634"
      },
      "source": [
        "dataframe.describe()"
      ],
      "execution_count": null,
      "outputs": [
        {
          "output_type": "execute_result",
          "data": {
            "text/html": [
              "<div>\n",
              "<style scoped>\n",
              "    .dataframe tbody tr th:only-of-type {\n",
              "        vertical-align: middle;\n",
              "    }\n",
              "\n",
              "    .dataframe tbody tr th {\n",
              "        vertical-align: top;\n",
              "    }\n",
              "\n",
              "    .dataframe thead th {\n",
              "        text-align: right;\n",
              "    }\n",
              "</style>\n",
              "<table border=\"1\" class=\"dataframe\">\n",
              "  <thead>\n",
              "    <tr style=\"text-align: right;\">\n",
              "      <th></th>\n",
              "      <th>11012</th>\n",
              "    </tr>\n",
              "  </thead>\n",
              "  <tbody>\n",
              "    <tr>\n",
              "      <th>count</th>\n",
              "      <td>1.170000e+02</td>\n",
              "    </tr>\n",
              "    <tr>\n",
              "      <th>mean</th>\n",
              "      <td>5.853266e+07</td>\n",
              "    </tr>\n",
              "    <tr>\n",
              "      <th>std</th>\n",
              "      <td>3.067196e+07</td>\n",
              "    </tr>\n",
              "    <tr>\n",
              "      <th>min</th>\n",
              "      <td>9.817854e+06</td>\n",
              "    </tr>\n",
              "    <tr>\n",
              "      <th>25%</th>\n",
              "      <td>3.117572e+07</td>\n",
              "    </tr>\n",
              "    <tr>\n",
              "      <th>50%</th>\n",
              "      <td>6.051214e+07</td>\n",
              "    </tr>\n",
              "    <tr>\n",
              "      <th>75%</th>\n",
              "      <td>7.697829e+07</td>\n",
              "    </tr>\n",
              "    <tr>\n",
              "      <th>max</th>\n",
              "      <td>1.459457e+08</td>\n",
              "    </tr>\n",
              "  </tbody>\n",
              "</table>\n",
              "</div>"
            ],
            "text/plain": [
              "              11012\n",
              "count  1.170000e+02\n",
              "mean   5.853266e+07\n",
              "std    3.067196e+07\n",
              "min    9.817854e+06\n",
              "25%    3.117572e+07\n",
              "50%    6.051214e+07\n",
              "75%    7.697829e+07\n",
              "max    1.459457e+08"
            ]
          },
          "metadata": {},
          "execution_count": 8
        }
      ]
    },
    {
      "cell_type": "code",
      "metadata": {
        "id": "MsIJSiY_O3xm",
        "colab": {
          "base_uri": "https://localhost:8080/",
          "height": 235
        },
        "outputId": "bc924978-3406-4f3c-904e-5d3fb5fed4aa"
      },
      "source": [
        "\n",
        "dataframe.head(5)"
      ],
      "execution_count": null,
      "outputs": [
        {
          "output_type": "execute_result",
          "data": {
            "text/html": [
              "<div>\n",
              "<style scoped>\n",
              "    .dataframe tbody tr th:only-of-type {\n",
              "        vertical-align: middle;\n",
              "    }\n",
              "\n",
              "    .dataframe tbody tr th {\n",
              "        vertical-align: top;\n",
              "    }\n",
              "\n",
              "    .dataframe thead th {\n",
              "        text-align: right;\n",
              "    }\n",
              "</style>\n",
              "<table border=\"1\" class=\"dataframe\">\n",
              "  <thead>\n",
              "    <tr style=\"text-align: right;\">\n",
              "      <th></th>\n",
              "      <th>11012</th>\n",
              "    </tr>\n",
              "    <tr>\n",
              "      <th>datee</th>\n",
              "      <th></th>\n",
              "    </tr>\n",
              "  </thead>\n",
              "  <tbody>\n",
              "    <tr>\n",
              "      <th>2011-01-28</th>\n",
              "      <td>2.125167e+07</td>\n",
              "    </tr>\n",
              "    <tr>\n",
              "      <th>2011-02-28</th>\n",
              "      <td>1.681022e+07</td>\n",
              "    </tr>\n",
              "    <tr>\n",
              "      <th>2011-03-28</th>\n",
              "      <td>9.817854e+06</td>\n",
              "    </tr>\n",
              "    <tr>\n",
              "      <th>2011-04-28</th>\n",
              "      <td>1.687219e+07</td>\n",
              "    </tr>\n",
              "    <tr>\n",
              "      <th>2011-05-28</th>\n",
              "      <td>1.676290e+07</td>\n",
              "    </tr>\n",
              "  </tbody>\n",
              "</table>\n",
              "</div>"
            ],
            "text/plain": [
              "                   11012\n",
              "datee                   \n",
              "2011-01-28  2.125167e+07\n",
              "2011-02-28  1.681022e+07\n",
              "2011-03-28  9.817854e+06\n",
              "2011-04-28  1.687219e+07\n",
              "2011-05-28  1.676290e+07"
            ]
          },
          "metadata": {},
          "execution_count": 9
        }
      ]
    },
    {
      "cell_type": "code",
      "metadata": {
        "id": "ORdtTA4ockm7",
        "colab": {
          "base_uri": "https://localhost:8080/",
          "height": 517
        },
        "outputId": "382406f1-ee76-494c-f0ae-345b98456939"
      },
      "source": [
        "plt.figure(figsize=(10,8))\n",
        "fig = plt.figure(1)\n",
        "ax1 = fig.add_subplot(111)\n",
        "ax1.set_xlabel('Date',size=20)\n",
        "ax1.set_ylabel('Revenue',size=20)\n",
        "plt.plot(dataframe)\n",
        "plt.show()"
      ],
      "execution_count": null,
      "outputs": [
        {
          "output_type": "display_data",
          "data": {
            "image/png": "[encoded data removed]",
            "text/plain": [
              "<Figure size 720x576 with 1 Axes>"
            ]
          },
          "metadata": {
            "needs_background": "light"
          }
        }
      ]
    },
    {
      "cell_type": "code",
      "metadata": {
        "id": "k5MLamw4pMmd"
      },
      "source": [
        "scaler = MinMaxScaler(feature_range=(0, 1))\n",
        "dataset = scaler.fit_transform(dataset)\n",
        "# split into train and test sets\n",
        "train_size = int(len(dataset) * 0.80)\n",
        "test_size = len(dataset) - train_size\n",
        "train, test = dataset[0:train_size,:], dataset[train_size:len(dataset),:]"
      ],
      "execution_count": null,
      "outputs": []
    },
    {
      "cell_type": "code",
      "metadata": {
        "id": "6ujV8Odx3aNp",
        "colab": {
          "base_uri": "https://localhost:8080/"
        },
        "outputId": "f267376f-d2ab-4411-e471-2f0cb3e2233f"
      },
      "source": [
        "test.shape"
      ],
      "execution_count": null,
      "outputs": [
        {
          "output_type": "execute_result",
          "data": {
            "text/plain": [
              "(24, 1)"
            ]
          },
          "metadata": {},
          "execution_count": 12
        }
      ]
    },
    {
      "cell_type": "code",
      "metadata": {
        "id": "QQ9Q4qb5p-tT"
      },
      "source": [
        "look_back =1\n",
        "trainX, trainY = create_dataset(train, look_back)\n",
        "testX, testY = create_dataset(test, look_back)\n",
        "# reshape input to be [samples, time steps, features]\n",
        "trainX = numpy.reshape(trainX, (trainX.shape[0], 1,trainX.shape[1]))\n",
        "testX = numpy.reshape(testX, (testX.shape[0], 1,testX.shape[1]))"
      ],
      "execution_count": null,
      "outputs": []
    },
    {
      "cell_type": "code",
      "metadata": {
        "id": "fKH047Fraj2_",
        "colab": {
          "base_uri": "https://localhost:8080/"
        },
        "outputId": "15cce64a-952f-4725-f4f8-142c747cf2e6"
      },
      "source": [
        "trainY.shape"
      ],
      "execution_count": null,
      "outputs": [
        {
          "output_type": "execute_result",
          "data": {
            "text/plain": [
              "(91,)"
            ]
          },
          "metadata": {},
          "execution_count": 14
        }
      ]
    },
    {
      "cell_type": "code",
      "metadata": {
        "id": "EsUli2jqaoQm",
        "colab": {
          "base_uri": "https://localhost:8080/"
        },
        "outputId": "fc4d9ba4-3b87-4798-e8ef-126edfe7128d"
      },
      "source": [
        "testX.shape"
      ],
      "execution_count": null,
      "outputs": [
        {
          "output_type": "execute_result",
          "data": {
            "text/plain": [
              "(22, 1, 1)"
            ]
          },
          "metadata": {},
          "execution_count": 15
        }
      ]
    },
    {
      "cell_type": "code",
      "metadata": {
        "id": "r52Qma0KazvY",
        "colab": {
          "base_uri": "https://localhost:8080/"
        },
        "outputId": "b3d746b0-8e05-41fa-c1d1-e3737a111912"
      },
      "source": [
        "testY.shape"
      ],
      "execution_count": null,
      "outputs": [
        {
          "output_type": "execute_result",
          "data": {
            "text/plain": [
              "(22,)"
            ]
          },
          "metadata": {},
          "execution_count": 16
        }
      ]
    },
    {
      "cell_type": "code",
      "metadata": {
        "id": "xKsW3Ds7qazF"
      },
      "source": [
        "model = Sequential()\n",
        "model.add(LSTM(units=4,activation=\"relu\",return_sequences=True,input_shape=(look_back,1)))\n",
        "# Adding 2nd LSTM layer\n",
        "model.add(LSTM(units=2,return_sequences=False))\n",
        "# Adding 3rd lstm layer\n",
        "# model.add(LSTM(units=1,return_sequences=False))\n",
        "# adding dropout\n",
        "# model.add(Dropout(0.2))\n",
        "# Output layer\n",
        "model.add(Dense(units=1))"
      ],
      "execution_count": null,
      "outputs": []
    },
    {
      "cell_type": "code",
      "metadata": {
        "id": "GbDnd6sbxQiJ",
        "colab": {
          "base_uri": "https://localhost:8080/"
        },
        "outputId": "ef8c28bb-5e3d-4914-c0b7-b8f872cbac8a"
      },
      "source": [
        "\n",
        "%%time\n",
        "es = EarlyStopping(monitor='loss', min_delta=1e-10, patience=10, verbose=1)\n",
        "rlr = ReduceLROnPlateau(monitor='loss', factor=0.5, patience=10, verbose=1)\n",
        "mcp = ModelCheckpoint(filepath='weights.h5', monitor='loss', verbose=1, save_best_only=True, save_weights_only=True)\n",
        "# callbacks=[es, rlr, mcp, tb],\n",
        "tb = TensorBoard('logs')\n",
        "# model.compile(loss= 'mean_squared_error' , optimizer= 'adam' m )\n",
        "model.compile(loss=tf.losses.MeanSquaredError(),optimizer=tf.optimizers.Adam(),metrics=[tf.metrics.MeanSquaredError()])\n",
        "history=model.fit(trainX, trainY, epochs=50,batch_size=1,verbose=2,validation_split=0.033,shuffle=False)"
      ],
      "execution_count": null,
      "outputs": [
        {
          "output_type": "stream",
          "name": "stdout",
          "text": [
            "Epoch 1/50\n",
            "87/87 - 3s - loss: 0.0589 - mean_squared_error: 0.0589 - val_loss: 0.1324 - val_mean_squared_error: 0.1324\n",
            "Epoch 2/50\n",
            "87/87 - 0s - loss: 0.0322 - mean_squared_error: 0.0322 - val_loss: 0.0837 - val_mean_squared_error: 0.0837\n",
            "Epoch 3/50\n",
            "87/87 - 0s - loss: 0.0276 - mean_squared_error: 0.0276 - val_loss: 0.0632 - val_mean_squared_error: 0.0632\n",
            "Epoch 4/50\n",
            "87/87 - 0s - loss: 0.0279 - mean_squared_error: 0.0279 - val_loss: 0.0555 - val_mean_squared_error: 0.0555\n",
            "Epoch 5/50\n",
            "87/87 - 0s - loss: 0.0283 - mean_squared_error: 0.0283 - val_loss: 0.0523 - val_mean_squared_error: 0.0523\n",
            "Epoch 6/50\n",
            "87/87 - 0s - loss: 0.0283 - mean_squared_error: 0.0283 - val_loss: 0.0505 - val_mean_squared_error: 0.0505\n",
            "Epoch 7/50\n",
            "87/87 - 0s - loss: 0.0280 - mean_squared_error: 0.0280 - val_loss: 0.0490 - val_mean_squared_error: 0.0490\n",
            "Epoch 8/50\n",
            "87/87 - 0s - loss: 0.0276 - mean_squared_error: 0.0276 - val_loss: 0.0476 - val_mean_squared_error: 0.0476\n",
            "Epoch 9/50\n",
            "87/87 - 0s - loss: 0.0271 - mean_squared_error: 0.0271 - val_loss: 0.0461 - val_mean_squared_error: 0.0461\n",
            "Epoch 10/50\n",
            "87/87 - 0s - loss: 0.0266 - mean_squared_error: 0.0266 - val_loss: 0.0445 - val_mean_squared_error: 0.0445\n",
            "Epoch 11/50\n",
            "87/87 - 0s - loss: 0.0261 - mean_squared_error: 0.0261 - val_loss: 0.0430 - val_mean_squared_error: 0.0430\n",
            "Epoch 12/50\n",
            "87/87 - 0s - loss: 0.0255 - mean_squared_error: 0.0255 - val_loss: 0.0415 - val_mean_squared_error: 0.0415\n",
            "Epoch 13/50\n",
            "87/87 - 0s - loss: 0.0249 - mean_squared_error: 0.0249 - val_loss: 0.0400 - val_mean_squared_error: 0.0400\n",
            "Epoch 14/50\n",
            "87/87 - 0s - loss: 0.0243 - mean_squared_error: 0.0243 - val_loss: 0.0387 - val_mean_squared_error: 0.0387\n",
            "Epoch 15/50\n",
            "87/87 - 0s - loss: 0.0237 - mean_squared_error: 0.0237 - val_loss: 0.0375 - val_mean_squared_error: 0.0375\n",
            "Epoch 16/50\n",
            "87/87 - 0s - loss: 0.0230 - mean_squared_error: 0.0230 - val_loss: 0.0365 - val_mean_squared_error: 0.0365\n",
            "Epoch 17/50\n",
            "87/87 - 0s - loss: 0.0225 - mean_squared_error: 0.0225 - val_loss: 0.0356 - val_mean_squared_error: 0.0356\n",
            "Epoch 18/50\n",
            "87/87 - 0s - loss: 0.0219 - mean_squared_error: 0.0219 - val_loss: 0.0350 - val_mean_squared_error: 0.0350\n",
            "Epoch 19/50\n",
            "87/87 - 0s - loss: 0.0214 - mean_squared_error: 0.0214 - val_loss: 0.0345 - val_mean_squared_error: 0.0345\n",
            "Epoch 20/50\n",
            "87/87 - 0s - loss: 0.0209 - mean_squared_error: 0.0209 - val_loss: 0.0341 - val_mean_squared_error: 0.0341\n",
            "Epoch 21/50\n",
            "87/87 - 0s - loss: 0.0205 - mean_squared_error: 0.0205 - val_loss: 0.0339 - val_mean_squared_error: 0.0339\n",
            "Epoch 22/50\n",
            "87/87 - 0s - loss: 0.0201 - mean_squared_error: 0.0201 - val_loss: 0.0337 - val_mean_squared_error: 0.0337\n",
            "Epoch 23/50\n",
            "87/87 - 0s - loss: 0.0197 - mean_squared_error: 0.0197 - val_loss: 0.0337 - val_mean_squared_error: 0.0337\n",
            "Epoch 24/50\n",
            "87/87 - 0s - loss: 0.0194 - mean_squared_error: 0.0194 - val_loss: 0.0337 - val_mean_squared_error: 0.0337\n",
            "Epoch 25/50\n",
            "87/87 - 0s - loss: 0.0192 - mean_squared_error: 0.0192 - val_loss: 0.0337 - val_mean_squared_error: 0.0337\n",
            "Epoch 26/50\n",
            "87/87 - 0s - loss: 0.0189 - mean_squared_error: 0.0189 - val_loss: 0.0338 - val_mean_squared_error: 0.0338\n",
            "Epoch 27/50\n",
            "87/87 - 0s - loss: 0.0188 - mean_squared_error: 0.0188 - val_loss: 0.0338 - val_mean_squared_error: 0.0338\n",
            "Epoch 28/50\n",
            "87/87 - 0s - loss: 0.0186 - mean_squared_error: 0.0186 - val_loss: 0.0339 - val_mean_squared_error: 0.0339\n",
            "Epoch 29/50\n",
            "87/87 - 0s - loss: 0.0184 - mean_squared_error: 0.0184 - val_loss: 0.0340 - val_mean_squared_error: 0.0340\n",
            "Epoch 30/50\n",
            "87/87 - 0s - loss: 0.0183 - mean_squared_error: 0.0183 - val_loss: 0.0341 - val_mean_squared_error: 0.0341\n",
            "Epoch 31/50\n",
            "87/87 - 0s - loss: 0.0182 - mean_squared_error: 0.0182 - val_loss: 0.0342 - val_mean_squared_error: 0.0342\n",
            "Epoch 32/50\n",
            "87/87 - 0s - loss: 0.0181 - mean_squared_error: 0.0181 - val_loss: 0.0343 - val_mean_squared_error: 0.0343\n",
            "Epoch 33/50\n",
            "87/87 - 0s - loss: 0.0180 - mean_squared_error: 0.0180 - val_loss: 0.0343 - val_mean_squared_error: 0.0343\n",
            "Epoch 34/50\n",
            "87/87 - 0s - loss: 0.0180 - mean_squared_error: 0.0180 - val_loss: 0.0344 - val_mean_squared_error: 0.0344\n",
            "Epoch 35/50\n",
            "87/87 - 0s - loss: 0.0179 - mean_squared_error: 0.0179 - val_loss: 0.0344 - val_mean_squared_error: 0.0344\n",
            "Epoch 36/50\n",
            "87/87 - 0s - loss: 0.0178 - mean_squared_error: 0.0178 - val_loss: 0.0345 - val_mean_squared_error: 0.0345\n",
            "Epoch 37/50\n",
            "87/87 - 0s - loss: 0.0178 - mean_squared_error: 0.0178 - val_loss: 0.0345 - val_mean_squared_error: 0.0345\n",
            "Epoch 38/50\n",
            "87/87 - 0s - loss: 0.0177 - mean_squared_error: 0.0177 - val_loss: 0.0345 - val_mean_squared_error: 0.0345\n",
            "Epoch 39/50\n",
            "87/87 - 0s - loss: 0.0177 - mean_squared_error: 0.0177 - val_loss: 0.0346 - val_mean_squared_error: 0.0346\n",
            "Epoch 40/50\n",
            "87/87 - 0s - loss: 0.0177 - mean_squared_error: 0.0177 - val_loss: 0.0346 - val_mean_squared_error: 0.0346\n",
            "Epoch 41/50\n",
            "87/87 - 0s - loss: 0.0176 - mean_squared_error: 0.0176 - val_loss: 0.0346 - val_mean_squared_error: 0.0346\n",
            "Epoch 42/50\n",
            "87/87 - 0s - loss: 0.0176 - mean_squared_error: 0.0176 - val_loss: 0.0346 - val_mean_squared_error: 0.0346\n",
            "Epoch 43/50\n",
            "87/87 - 0s - loss: 0.0176 - mean_squared_error: 0.0176 - val_loss: 0.0346 - val_mean_squared_error: 0.0346\n",
            "Epoch 44/50\n",
            "87/87 - 0s - loss: 0.0175 - mean_squared_error: 0.0175 - val_loss: 0.0346 - val_mean_squared_error: 0.0346\n",
            "Epoch 45/50\n",
            "87/87 - 0s - loss: 0.0175 - mean_squared_error: 0.0175 - val_loss: 0.0346 - val_mean_squared_error: 0.0346\n",
            "Epoch 46/50\n",
            "87/87 - 0s - loss: 0.0175 - mean_squared_error: 0.0175 - val_loss: 0.0345 - val_mean_squared_error: 0.0345\n",
            "Epoch 47/50\n",
            "87/87 - 0s - loss: 0.0174 - mean_squared_error: 0.0174 - val_loss: 0.0345 - val_mean_squared_error: 0.0345\n",
            "Epoch 48/50\n",
            "87/87 - 0s - loss: 0.0174 - mean_squared_error: 0.0174 - val_loss: 0.0345 - val_mean_squared_error: 0.0345\n",
            "Epoch 49/50\n",
            "87/87 - 0s - loss: 0.0174 - mean_squared_error: 0.0174 - val_loss: 0.0345 - val_mean_squared_error: 0.0345\n",
            "Epoch 50/50\n",
            "87/87 - 0s - loss: 0.0174 - mean_squared_error: 0.0174 - val_loss: 0.0344 - val_mean_squared_error: 0.0344\n",
            "CPU times: user 13.8 s, sys: 813 ms, total: 14.6 s\n",
            "Wall time: 12.5 s\n"
          ]
        }
      ]
    },
    {
      "cell_type": "code",
      "metadata": {
        "id": "1YEYIfQ_rXkx",
        "colab": {
          "base_uri": "https://localhost:8080/"
        },
        "outputId": "1e43c907-28ba-409a-a268-477e96916c0f"
      },
      "source": [
        "model.summary()"
      ],
      "execution_count": null,
      "outputs": [
        {
          "output_type": "stream",
          "name": "stdout",
          "text": [
            "Model: \"sequential\"\n",
            "_________________________________________________________________\n",
            "Layer (type)                 Output Shape              Param #   \n",
            "=================================================================\n",
            "lstm (LSTM)                  (None, 1, 4)              96        \n",
            "_________________________________________________________________\n",
            "lstm_1 (LSTM)                (None, 2)                 56        \n",
            "_________________________________________________________________\n",
            "dense (Dense)                (None, 1)                 3         \n",
            "=================================================================\n",
            "Total params: 155\n",
            "Trainable params: 155\n",
            "Non-trainable params: 0\n",
            "_________________________________________________________________\n"
          ]
        }
      ]
    },
    {
      "cell_type": "code",
      "metadata": {
        "id": "Mmnjzinl7pkF",
        "colab": {
          "base_uri": "https://localhost:8080/",
          "height": 422
        },
        "outputId": "3c2759e7-e0b9-49a0-ba97-b67417c6534f"
      },
      "source": [
        "tf.keras.utils.plot_model(model, \"Revenue_LSTM_Model.png\", show_shapes=True)"
      ],
      "execution_count": null,
      "outputs": [
        {
          "output_type": "execute_result",
          "data": {
            "image/png": "[encoded data removed]",
            "text/plain": [
              "<IPython.core.display.Image object>"
            ]
          },
          "metadata": {},
          "execution_count": 20
        }
      ]
    },
    {
      "cell_type": "code",
      "metadata": {
        "id": "oWtkB6sD8YDq",
        "colab": {
          "base_uri": "https://localhost:8080/"
        },
        "outputId": "081cab32-c5fb-4da5-e39f-02fd326c6809"
      },
      "source": [
        "# Estimate model performance\n",
        "\n",
        "_, trainScore = model.evaluate(trainX, trainY, verbose=0)\n",
        "print('Train Score: %.2f MSE (%.2f RMSE)' % (trainScore, math.sqrt(trainScore)))\n",
        "_, testScore = model.evaluate(testX, testY, verbose=0)\n",
        "print('Test Score: %.2f MSE (%.2f RMSE)' % (testScore, math.sqrt(testScore)))"
      ],
      "execution_count": null,
      "outputs": [
        {
          "output_type": "stream",
          "name": "stdout",
          "text": [
            "Train Score: 0.02 MSE (0.13 RMSE)\n",
            "Test Score: 0.03 MSE (0.17 RMSE)\n"
          ]
        }
      ]
    },
    {
      "cell_type": "code",
      "metadata": {
        "id": "UTCsarKs_3f_",
        "colab": {
          "base_uri": "https://localhost:8080/",
          "height": 522
        },
        "outputId": "58945eb4-d1b3-4beb-cb74-23284b49d3ee"
      },
      "source": [
        "plt.figure(figsize=(10,8))\n",
        "fig = plt.figure(1)\n",
        "ax1 = fig.add_subplot(111)\n",
        "ax1.set_xlabel('epochs',size =18)\n",
        "ax1.set_ylabel('Lose value',size=18)\n",
        "plt.plot(history.history['loss'],label='train lose')\n",
        "plt.plot(history.history['val_loss'],label='Validation lose')\n",
        "plt.legend()"
      ],
      "execution_count": null,
      "outputs": [
        {
          "output_type": "execute_result",
          "data": {
            "text/plain": [
              "<matplotlib.legend.Legend at 0x7fe53a3af4d0>"
            ]
          },
          "metadata": {},
          "execution_count": 22
        },
        {
          "output_type": "display_data",
          "data": {
            "image/png": "[encoded data removed]",
            "text/plain": [
              "<Figure size 720x576 with 1 Axes>"
            ]
          },
          "metadata": {
            "needs_background": "light"
          }
        }
      ]
    },
    {
      "cell_type": "code",
      "metadata": {
        "id": "vs0U-JJkqkLn"
      },
      "source": [
        "# make predictions\n",
        "trainPredict = model.predict(trainX)\n",
        "testPredict = model.predict(testX)\n",
        "\n",
        "# invert predictions\n",
        "trainPredict = scaler.inverse_transform(trainPredict)\n",
        "trainY = scaler.inverse_transform([trainY])\n",
        "testPredict = scaler.inverse_transform(testPredict)\n",
        "testY = scaler.inverse_transform([testY])"
      ],
      "execution_count": null,
      "outputs": []
    },
    {
      "cell_type": "code",
      "metadata": {
        "id": "2t_ir2uiqxTL",
        "colab": {
          "base_uri": "https://localhost:8080/"
        },
        "outputId": "864d5b0e-9629-4790-f1bc-16bea6e898d1"
      },
      "source": [
        "# calculate root mean squared error\n",
        "trainScore = math.sqrt(mean_squared_log_error(trainY[0], trainPredict[:,0]))\n",
        "print('trainY values')\n",
        "print(trainY[0])\n",
        "print('trainPredict values')\n",
        "print(trainPredict[:,0])\n",
        "# print('Train Score: %.2f RMSE' % (trainScore))\n",
        "testScore = math.sqrt(mean_squared_log_error(testY[0], testPredict[:,0]))\n",
        "print('testY values')\n",
        "print(testY[0])\n",
        "print('testPredict values')\n",
        "print(testPredict[:,0])\n",
        "# print('Test Score: %.2f RMSE' % (testScore))\n",
        "# shift train predictions for plotting\n",
        "trainPredictPlot = numpy.empty_like(dataset)\n",
        "trainPredictPlot[:, :] = numpy.nan\n",
        "trainPredictPlot[look_back:len(trainPredict)+look_back, :] = trainPredict\n",
        "# shift test predictions for plotting\n",
        "testPredictPlot = numpy.empty_like(dataset)\n",
        "testPredictPlot[:, :] = numpy.nan\n",
        "testPredictPlot[len(trainPredict)+(look_back*2)+1:len(dataset)-1, :] = testPredict\n"
      ],
      "execution_count": null,
      "outputs": [
        {
          "output_type": "stream",
          "name": "stdout",
          "text": [
            "trainY values\n",
            "[1.68102221e+07 9.81785367e+06 1.68721896e+07 1.67628971e+07\n",
            " 1.09528140e+07 1.27876407e+07 1.52919239e+07 1.65686241e+07\n",
            " 1.58762266e+07 2.31429599e+07 1.84081243e+07 2.85525564e+07\n",
            " 2.02178254e+07 2.34813054e+07 1.64385875e+07 2.65287400e+07\n",
            " 2.75357936e+07 2.40688618e+07 2.43546803e+07 3.23601959e+07\n",
            " 2.34813054e+07 2.85525564e+07 2.65287400e+07 2.34813054e+07\n",
            " 2.75357936e+07 2.95257439e+07 2.80678472e+07 3.11757197e+07\n",
            " 3.31053760e+07 3.11962802e+07 3.15068135e+07 4.01991291e+07\n",
            " 3.84660673e+07 4.41161148e+07 3.82035072e+07 7.21138370e+07\n",
            " 6.16292246e+07 6.59140762e+07 6.04704045e+07 4.99115382e+07\n",
            " 2.96515369e+07 6.54020070e+07 4.57181013e+07 6.36338894e+07\n",
            " 3.47636564e+07 6.89657360e+07 6.46372360e+07 5.21984797e+07\n",
            " 7.98072564e+07 5.23655885e+07 6.11725528e+07 5.51801292e+07\n",
            " 7.43193520e+07 4.84519092e+07 4.97193332e+07 7.32021316e+07\n",
            " 6.96405081e+07 6.12950476e+07 6.78515785e+07 5.87665242e+07\n",
            " 6.54240848e+07 4.02761782e+07 4.25917332e+07 4.44609535e+07\n",
            " 9.02329622e+07 3.84536288e+07 2.20091791e+07 7.62902469e+07\n",
            " 8.64399399e+07 4.93936960e+07 5.13778935e+07 4.88970634e+07\n",
            " 7.69782853e+07 6.90347524e+07 6.49902696e+07 6.23048041e+07\n",
            " 1.06935754e+08 7.79470993e+07 6.19521843e+07 5.57388205e+07\n",
            " 8.84661063e+07 6.05121462e+07 9.57135195e+07 4.88970634e+07\n",
            " 7.69782853e+07 6.90347524e+07 6.49902696e+07 6.23048041e+07\n",
            " 1.06935754e+08 7.79470993e+07 6.19521843e+07]\n",
            "trainPredict values\n",
            "[34546628. 32447760. 29367146. 32476284. 32425986. 29848560. 30642082.\n",
            " 31755566. 32336750. 32020420. 35473740. 33190172. 38234430. 34048230.\n",
            " 35641690. 32277134. 37182830. 37703320. 35934844. 36078140. 40272944.\n",
            " 35641690. 38234430. 37182830. 35641690. 37703320. 38748040. 37980540.\n",
            " 39630476. 40680950. 39641564. 39809310. 44709536. 43701564. 47042320.\n",
            " 43550184. 65583204. 58307852. 61241696. 57524936. 50626652. 38814800.\n",
            " 60888004. 48017640. 59673040. 41599420. 63365576. 60361270. 52082324.\n",
            " 71096770. 52189560. 57998760. 54013190. 67151290. 49709510. 50505336.\n",
            " 66355572. 63838736. 58081588. 62587052. 56382450. 60903236. 44754704.\n",
            " 46125610. 47251240. 78710080. 43694390. 34915572. 68561580. 75927864.\n",
            " 50300190. 51557424. 49988216. 69055770. 63413916. 60604200. 58766416.\n",
            " 90964950. 69753140. 58526880. 54378996. 77412880. 57553052. 82740550.\n",
            " 49988216. 69055770. 63413916. 60604200. 58766416. 90964950. 69753140.]\n",
            "testY values\n",
            "[6.05121462e+07 9.57135195e+07 7.62620026e+07 1.00849408e+08\n",
            " 7.64677374e+07 7.20218746e+07 1.08008113e+08 1.00021398e+08\n",
            " 8.20257130e+07 8.13101849e+07 8.58747939e+07 8.72959998e+07\n",
            " 8.94700655e+07 1.03531207e+08 1.27504301e+08 1.21461072e+08\n",
            " 1.01880468e+08 1.01772708e+08 1.32037501e+08 1.45945679e+08\n",
            " 1.02402732e+08 9.95347456e+07]\n",
            "testPredict values\n",
            "[7.7412880e+07 5.7553052e+07 8.2740552e+07 6.8541320e+07 8.6514888e+07\n",
            " 6.8688968e+07 6.5518068e+07 9.1744904e+07 8.5907160e+07 7.2706368e+07\n",
            " 7.2186424e+07 7.5514272e+07 7.6554904e+07 7.8149744e+07 8.8479920e+07\n",
            " 1.0555489e+08 1.0136538e+08 8.7271024e+07 8.7192024e+07 1.0863117e+08\n",
            " 1.1766226e+08 8.7653736e+07]\n"
          ]
        }
      ]
    },
    {
      "cell_type": "code",
      "metadata": {
        "colab": {
          "base_uri": "https://localhost:8080/"
        },
        "id": "TkDCKZ6W5__b",
        "outputId": "00afaf51-11b7-4b56-d3e0-d298a65936a8"
      },
      "source": [
        "dataset=scaler.inverse_transform(dataset)\n",
        "df= pd.DataFrame(dataset)\n",
        "trainPredictPlot=pd.DataFrame(trainPredictPlot)\n",
        "testPredictPlot=pd.DataFrame(testPredictPlot)\n",
        "!gdown --id 1nMekqw97uTbbGW5P3Ay5h1PNwbkloGa_ --output revenue.csv\n",
        "dfgraph = read_csv('revenue.csv',parse_dates=['datee'])\n",
        "dfgraph.columns\n",
        "dfgraph.set_index('datee',inplace=True)\n",
        "\n",
        "# dfgraph['datee']=pd.to_datetime([dfgraph['datee']])\n",
        "df.set_index(dfgraph.index[3:],inplace=True)\n",
        "trainPredictPlot.set_index(dfgraph.index[3:],inplace=True)\n",
        "testPredictPlot.set_index(dfgraph.index[3:],inplace=True)"
      ],
      "execution_count": null,
      "outputs": [
        {
          "output_type": "stream",
          "name": "stdout",
          "text": [
            "Downloading...\n",
            "From: https://drive.google.com/uc?id=1nMekqw97uTbbGW5P3Ay5h1PNwbkloGa_\n",
            "To: /content/revenue.csv\n",
            "\r  0% 0.00/186k [00:00<?, ?B/s]\r100% 186k/186k [00:00<00:00, 52.0MB/s]\n"
          ]
        }
      ]
    },
    {
      "cell_type": "code",
      "metadata": {
        "id": "EwQGDMydrBSW",
        "colab": {
          "base_uri": "https://localhost:8080/",
          "height": 516
        },
        "outputId": "b0f581ae-6238-456b-aab7-e8321d5c24e1"
      },
      "source": [
        "plt.figure(figsize=(10,8))\n",
        "fig = plt.figure(1)\n",
        "ax1 = fig.add_subplot(111)\n",
        "ax1.set_xlabel('Date',size=18)\n",
        "ax1.set_ylabel('Revenue',size=18)\n",
        "plt.plot(df,label='Actual Wages and salaries from other organizations Revenue')\n",
        "plt.plot(trainPredictPlot,label='train Prediction Wages and salaries from other organizations Revenue')\n",
        "plt.plot(testPredictPlot,label='test Prediction Wages and salaries from other organizations Revenue')\n",
        "plt.legend()\n",
        "plt.show()"
      ],
      "execution_count": null,
      "outputs": [
        {
          "output_type": "display_data",
          "data": {
            "image/png": "[encoded data removed]",
            "text/plain": [
              "<Figure size 720x576 with 1 Axes>"
            ]
          },
          "metadata": {
            "needs_background": "light"
          }
        }
      ]
    },
    {
      "cell_type": "code",
      "metadata": {
        "id": "7XnRrBQC9OLe"
      },
      "source": [
        "model.save('ANRSRBLSTMPR.h5')"
      ],
      "execution_count": null,
      "outputs": []
    },
    {
      "cell_type": "markdown",
      "metadata": {
        "id": "vhQuv08FHZoC"
      },
      "source": [
        "### Model Prediction With Saved **Model**"
      ]
    },
    {
      "cell_type": "code",
      "metadata": {
        "colab": {
          "base_uri": "https://localhost:8080/"
        },
        "id": "JjfMXLubHOvx",
        "outputId": "34a40f3c-d863-4b42-d947-fd78fa7daaf7"
      },
      "source": [
        "from keras.models import load_model\n",
        "model2 = load_model('ANRSRBLSTMPR.h5')\n",
        "!gdown --id 1nMekqw97uTbbGW5P3Ay5h1PNwbkloGa_ --output savedrevenue.csv\n",
        "# from google.colab import files\n",
        "# uploaded = files.upload()\n",
        "dataframeSaved = read_csv('savedrevenue.csv' , usecols=[0,1],parse_dates=['datee'],index_col='datee', engine='python')\n",
        "datasetSaved = dataframeSaved.values\n",
        "datasetSaved = datasetSaved.astype('float32')\n",
        "\n",
        "scaler2 = MinMaxScaler(feature_range=(0, 1))\n",
        "datasetSaved = scaler2.fit_transform(datasetSaved)\n",
        "\n",
        "look_back =1\n",
        "testXSaved, testYSaved = create_dataset(datasetSaved, look_back)\n",
        "# reshape input to be [samples, time steps, features]\n",
        "testXSaved = numpy.reshape(datasetSaved, (datasetSaved.shape[0], datasetSaved.shape[1], 1))\n",
        "\n",
        "NewPredictSaved = model2.predict(testXSaved)"
      ],
      "execution_count": null,
      "outputs": [
        {
          "output_type": "stream",
          "name": "stdout",
          "text": [
            "Downloading...\n",
            "From: https://drive.google.com/uc?id=1nMekqw97uTbbGW5P3Ay5h1PNwbkloGa_\n",
            "To: /content/savedrevenue.csv\n",
            "\r  0% 0.00/186k [00:00<?, ?B/s]\r100% 186k/186k [00:00<00:00, 1.73MB/s]\n"
          ]
        }
      ]
    },
    {
      "cell_type": "code",
      "metadata": {
        "colab": {
          "base_uri": "https://localhost:8080/"
        },
        "id": "YjysWeHTHSFw",
        "outputId": "e7d943a9-bee5-4b59-9c71-f2416eb15315"
      },
      "source": [
        "_, modelScoreSaved = model.evaluate(testXSaved[2:], testYSaved, verbose=0)\n",
        "print('Saved Model Score: %.2f MSE (%.2f RMSE)' % (modelScoreSaved, math.sqrt(modelScoreSaved)))"
      ],
      "execution_count": null,
      "outputs": [
        {
          "output_type": "stream",
          "name": "stdout",
          "text": [
            "Saved Model Score: 0.01 MSE (0.11 RMSE)\n"
          ]
        }
      ]
    },
    {
      "cell_type": "code",
      "metadata": {
        "id": "Y-lp60bMHXPz"
      },
      "source": [
        "NewPredictSavedIn=scaler2.inverse_transform(NewPredictSaved)\n",
        "datasetSavedIn=scaler2.inverse_transform(datasetSaved)"
      ],
      "execution_count": null,
      "outputs": []
    },
    {
      "cell_type": "code",
      "metadata": {
        "colab": {
          "base_uri": "https://localhost:8080/",
          "height": 508
        },
        "id": "NYMBazTlIAun",
        "outputId": "30908001-72b7-4a31-86ff-d7900d6dbd24"
      },
      "source": [
        "# shift test predictions for plotting\n",
        "plt.figure(figsize=(10,8))\n",
        "fig = plt.figure(1)\n",
        "ax1 = fig.add_subplot(111)\n",
        "ax1.set_xlabel('Date')\n",
        "ax1.set_ylabel('Revenue')\n",
        "plt.plot(datasetSavedIn,label='Actual Revenue')\n",
        "plt.plot(NewPredictSavedIn,label='Predicted Revenue')\n",
        "plt.legend()\n",
        "plt.show()\n"
      ],
      "execution_count": null,
      "outputs": [
        {
          "output_type": "display_data",
          "data": {
            "image/png": "[encoded data removed]",
            "text/plain": [
              "<Figure size 720x576 with 1 Axes>"
            ]
          },
          "metadata": {
            "needs_background": "light"
          }
        }
      ]
    },
    {
      "cell_type": "markdown",
      "metadata": {
        "id": "QH9LseITIBsm"
      },
      "source": [
        "## **Model Prediction From user data**"
      ]
    },
    {
      "cell_type": "code",
      "metadata": {
        "colab": {
          "resources": {
            "http://localhost:8080/nbextensions/google.colab/files.js": {
              "data": "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",
              "ok": true,
              "headers": [
                [
                  "content-type",
                  "application/javascript"
                ]
              ],
              "status": 200,
              "status_text": ""
            }
          },
          "base_uri": "https://localhost:8080/",
          "height": 38
        },
        "id": "0ibvj8JZbscu",
        "outputId": "cfa2089a-1d29-446f-8e94-77282b5ca8d2"
      },
      "source": [
        "from keras.models import load_model\n",
        "model2 = load_model('ANRSRBLSTMPR.h5')\n",
        "# !gdown --id 1nMekqw97uTbbGW5P3Ay5h1PNwbkloGa_ --output savedrevenue.csv\n",
        "from google.colab import files\n",
        "uploaded = files.upload()\n",
        "dataframe2 = read_csv('ANRS Revenue Data Transposed1.csv' , usecols=[0,1],parse_dates=['datee'],index_col='datee', engine='python')\n",
        "dataset2 = dataframe2.values\n",
        "dataset2 = dataset2.astype('float32')\n",
        "\n",
        "scaler2 = MinMaxScaler(feature_range=(0, 1))\n",
        "dataset3 = scaler2.fit_transform(dataset2)\n",
        "\n",
        "look_back =1\n",
        "testX2, testY2 = create_dataset(dataset3, look_back)\n",
        "# reshape input to be [samples, time steps, features]\n",
        "testX2 = numpy.reshape(dataset3, (dataset3.shape[0], dataset3.shape[1], 1))\n",
        "\n",
        "NewPredict = model2.predict(testX2[48:])"
      ],
      "execution_count": null,
      "outputs": [
        {
          "output_type": "display_data",
          "data": {
            "text/html": [
              "\n",
              "     <input type=\"file\" id=\"files-3f168bf9-1cbf-45f8-9b16-d33e6d9eaec5\" name=\"files[]\" multiple disabled\n",
              "        style=\"border:none\" />\n",
              "     <output id=\"result-3f168bf9-1cbf-45f8-9b16-d33e6d9eaec5\">\n",
              "      Upload widget is only available when the cell has been executed in the\n",
              "      current browser session. Please rerun this cell to enable.\n",
              "      </output>\n",
              "      <script src=\"/nbextensions/google.colab/files.js\"></script> "
            ],
            "text/plain": [
              "<IPython.core.display.HTML object>"
            ]
          },
          "metadata": {}
        }
      ]
    },
    {
      "cell_type": "code",
      "metadata": {
        "id": "4ZHd7-YA92Qi"
      },
      "source": [
        "_, modelScore = model.evaluate(testX2[2:], testY2, verbose=0)\n",
        "print('Saved Model Score: %.2f MSE (%.2f RMSE)' % (modelScore, math.sqrt(modelScore)))"
      ],
      "execution_count": null,
      "outputs": []
    },
    {
      "cell_type": "code",
      "metadata": {
        "id": "AvzP6OxOXINz"
      },
      "source": [
        "NewPredictin=scaler.inverse_transform(NewPredict)\n"
      ],
      "execution_count": null,
      "outputs": []
    },
    {
      "cell_type": "code",
      "metadata": {
        "id": "JJ651s8imRFn"
      },
      "source": [
        "# shift test predictions for plotting\n",
        "plt.figure(figsize=(10,8))\n",
        "fig = plt.figure(1)\n",
        "ax1 = fig.add_subplot(111)\n",
        "ax1.set_xlabel('Date')\n",
        "ax1.set_ylabel('Revenue')\n",
        "plt.plot(dataset2[48:],label='Actual Revenue')\n",
        "plt.plot(NewPredictin,label='Predicted Revenue')\n",
        "plt.legend()\n",
        "plt.show()\n"
      ],
      "execution_count": null,
      "outputs": []
    },
    {
      "cell_type": "code",
      "metadata": {
        "id": "9Qq57_LAfADs"
      },
      "source": [
        "import pandas as pd\n",
        "print(('Actual:        Predicted'))\n",
        "df1 = \"\\n\".join(\"{} {}\".format(dataset2, NewPredictin) for dataset2, NewPredictin in zip(dataset2,NewPredictin))\n",
        "print(df1)"
      ],
      "execution_count": null,
      "outputs": []
    },
    {
      "cell_type": "markdown",
      "metadata": {
        "id": "mv4hh0S2YAW7"
      },
      "source": [
        "## **Future Revenue Forecasting**"
      ]
    },
    {
      "cell_type": "code",
      "metadata": {
        "id": "53Ao_WM2W4CY"
      },
      "source": [
        "!gdown --id 1nMekqw97uTbbGW5P3Ay5h1PNwbkloGa_ --output directtax.csv\n",
        "dataset_train = pd.read_csv('directtax.csv' ,engine='python',skipfooter=1)\n",
        "# Extract dates (will be used in visualization)\n",
        "datelist_train = list(dataset_train['datee'])\n",
        "# orig_date = str(dataset_train['datee'])\n",
        "datelist_train = [dt.datetime.strptime(date, '%m/%d/%Y').date() for date in datelist_train]\n",
        "# Generate list of sequence of days for predictions\n",
        "num = input(\"Enter number of months of revenue to be predicted  :\") \n",
        "datelist_future = pd.date_range(datelist_train[-1], periods=int(num), freq='1m').tolist()\n",
        "datelist_future_ = []\n",
        "for this_timestamp in datelist_future:\n",
        "     datelist_future_.append(this_timestamp.date())\n",
        "\n",
        "# ---> Special function: convert <datetime.date> to <Timestamp>\n",
        "def datetime_to_timestamp(x):\n",
        "    return datetime.strptime(x.strftime('%Y%M'), '%Y%M')\n",
        "scaler2 = MinMaxScaler(feature_range=(0, 1))\n",
        "dataset3 = scaler2.fit_transform(dataset2)\n",
        "\n",
        "look_back =1\n",
        "testX2, testY2 = create_dataset(dataset3, look_back)\n",
        "# reshape input to be [samples, time steps, features]\n",
        "testX2 = numpy.reshape(dataset3, (dataset3.shape[0], dataset3.shape[1], 1))\n",
        "\n",
        "predictions_future = model.predict(testX2[-12:])"
      ],
      "execution_count": null,
      "outputs": []
    },
    {
      "cell_type": "code",
      "metadata": {
        "id": "0-ojnLcDW8gk"
      },
      "source": [
        "_, modelScore = model.evaluate(testX2[2:], testY2, verbose=0)\n",
        "print('Saved Model Score: %.2f MSE (%.2f RMSE)' % (modelScore, math.sqrt(modelScore)))"
      ],
      "execution_count": null,
      "outputs": []
    },
    {
      "cell_type": "code",
      "metadata": {
        "id": "JVqXhUSGXBjO"
      },
      "source": [
        "predictions_future_list=scaler.inverse_transform(predictions_future)\n",
        "\n",
        "PREDICTIONS_FUTURE = pd.DataFrame(predictions_future_list, columns=['total']).set_index(pd.Series(datelist_future))\n",
        "PREDICTIONS_FUTURE.head(12)"
      ],
      "execution_count": null,
      "outputs": []
    }
  ]
}